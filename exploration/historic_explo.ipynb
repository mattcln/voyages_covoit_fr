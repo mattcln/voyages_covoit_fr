{
 "cells": [
  {
   "cell_type": "code",
   "execution_count": null,
   "metadata": {},
   "outputs": [],
   "source": [
    "import os\n",
    "\n",
    "import pandas as pd"
   ]
  },
  {
   "cell_type": "code",
   "execution_count": null,
   "metadata": {},
   "outputs": [],
   "source": [
    "\n",
    "in_relative_path = \"../exports_covoit/\"\n",
    "in_absolute_path = os.path.abspath(os.path.join(os.getcwd(), in_relative_path))\n",
    "print(in_absolute_path)"
   ]
  },
  {
   "cell_type": "code",
   "execution_count": null,
   "metadata": {},
   "outputs": [],
   "source": [
    "os.listdir(in_absolute_path)"
   ]
  },
  {
   "cell_type": "code",
   "execution_count": null,
   "metadata": {},
   "outputs": [],
   "source": [
    "df = pd.read_csv(f\"{in_absolute_path}/2023-06.csv\", sep=\";\", engine=\"python\")\n",
    "df.head()"
   ]
  },
  {
   "cell_type": "markdown",
   "metadata": {},
   "source": [
    "Chaque ligne correspond à un trajet de covoiturage, c\"est à dire un couple passager / conducteur. A chaque passager est donc affecté un trajet.\n",
    "\n",
    "Exemple : un conducteur réalise un déplacement avec deux passagers différents au sein de son véhicule, le nombre de trajets réalisés et de 2. Ceci se traduit par deux lignes.\n",
    "\n",
    "Colonnes à garder :  \n",
    "- journey_id  \n",
    "Identifiant unique affecté à un couple passager/conducteur.  \n",
    "- trip_id  \n",
    "Identifiant permettant de regrouper plusieurs couples passager/conducteur dans un même véhicule.  \n",
    "Exemple : c4124bb1-d8a4-487c-b4d9-367b931ee8ce  \n",
    "- journey_start_datetime  \n",
    "Exemple : 2019-10-31T23:00:00.000Z  \n",
    "Date et heure du départ au format ISO 8601 (YYYY-MM-DDThh:mm:ssZ).  \n",
    "L\"heure est exprimée en UTC (Coordinated Universal Time). UTC n\"est pas ajusté sur l\"heure d\"été et hiver !  \n",
    "- journey_start_insee  \n",
    "Exemple : 91377  \n",
    "Code INSEE commune ou arrondissement du point de départ (prise en charge passager). Déterminé via les coordonnées géographiques  \n",
    "- journey_start_town  \n",
    "Exemple : Massy  \n",
    "Commune du point de départ (prise en charge passager). Déterminé via les coordonnées géographiques  \n",
    "- journey_end_insee  \n",
    "Exemple : 91122  \n",
    "Code INSEE commune ou arrondissement du point d\"arrivée (dépose passager).Déterminé via les coordonnées géographiques  \n",
    "- journey_end_town  \n",
    "Exemple : Bures-sur-Yvette  \n",
    "Commune du point d\"arrivée (dépose passager). Déterminé via les coordonnées géographiques  \n",
    "- passenger_seats  \n",
    "Exemple : 2  \n",
    "Nombre de sièges réservés par l\"occupant passager  \n",
    "- journey_distance  \n",
    "Exemple: 34523  \n",
    "Distance parcourue en mètres. Information envoyée par l\"opérateur  \n",
    "- journey_duration  \n",
    "Exemple: 60  \n",
    "Durée du trajet en minutes. Information envoyée par l\"opérateur  \n",
    "\n",
    "Colonnes à supprimer : \n",
    "- journey_start_date\n",
    "Exemple : 2019-10-31\n",
    "Date départ au format YYYY-MM-DD\n",
    "- journey_start_time\n",
    "Exemple : 02:20:001\n",
    "Heure de départ au format hh:mm:ss\n",
    "- journey_start_lat\n",
    "Exemple : 48.725\n",
    "Latitude du point de départ (prise en charge passager) comprise entre 90deg et -90deg décimaux en datum WSG-84\n",
    "- journey_start_lon\n",
    "Exemple : 2.261\n",
    "Longitude du point de départ (prise en charge passager) comprise entre 180deg et -180deg décimaux en datum WSG-84\n",
    "- journey_start_postcode Supprimé à partir de Juin 2022\n",
    "Exemple : 91300\n",
    "Code postal du point de départ (prise en charge passager). Déterminé via les coordonnées géographiques\n",
    "- journey_start_towngroup\n",
    "Exemple : Ile-De-France Mobilites\n",
    "EPCI ou AOM de départ. Déterminé via les coordonnées géographiques. Peut être vide\n",
    "- journey_start_department\n",
    "Exemple : 38\n",
    "Département du point de départ (prise en charge passager). Déterminé via les coordonnées géographiques\n",
    "- journey_start_country\n",
    "Exemple : France\n",
    "Pays du point de départ (prise en charge passager). Déterminé via les coordonnées géographiques\n",
    "- journey_end_datetime\n",
    "Exemple : 2019-10-31T23:15:00.000Z\n",
    "Date et heure de l\"arrivée au format ISO 8601 (YYYY-MM-DDThh:mm:ssZ).\n",
    "L\"heure est exprimée en UTC (Coordinated Universal Time). UTC n\"est pas ajusté sur l\"heure d\"été et hiver !\n",
    "- journey_end_date\n",
    "Exemple : 2019-10-31\n",
    "Date d\"arrivée au format YYYY-MM-DD\n",
    "- journey_end_time\n",
    "Exemple : 02:20:001\n",
    "Heure d\"arrivéet au format hh:mm:ss\n",
    "- journey_end_lat\n",
    "Exemple : 48.695\n",
    "Latitude du point d\"arrivée (dépose passager) comprise entre 90deg et -90deg décimaux en datum WSG-84.\n",
    "- journey_end_lon\n",
    "Exemple : 2.162\n",
    "Longitude du point d\"arrivée (dépose passager) comprise entre 180deg et -180deg décimaux en datum WSG-84\n",
    "- journey_end_postcode Supprimé à partir de Juin 2022\n",
    "Exemple : 91440\n",
    "Code postal du point d\"arrivée (dépose passager). Déterminé via les coordonnées géographiques\n",
    "- journey_end_department\n",
    "Exemple : 38\n",
    "Département du point d\"arrivée (dépose passager). Déterminé via les coordonnées géographiques\n",
    "- journey_end_towngroup\n",
    "Exemple : Ile-De-France Mobilites\n",
    "EPCI ou AOM d\"arrivée. Déterminé via les coordonnées géographiques. Peut être vide\n",
    "- journey_end_country\n",
    "Exemple : France\n",
    "Pays du point d\"arrivée (dépose passager)\n",
    "- operator_class\n",
    "Exemple: C\n",
    "Classe de preuve de covoiturage\n",
    "- has_incentive\n",
    "Exemple: OUI\n",
    "Si le trajet est incité ou non par un opérateur ou une campagne paramétrée sur le registre. Attention : à date cette donnée est renseignée partiellement et ne peut donner lieu à des analyses et conclusions."
   ]
  },
  {
   "cell_type": "code",
   "execution_count": null,
   "metadata": {},
   "outputs": [],
   "source": [
    "colonne_a_garder = [\n",
    "    \"journey_id\",\n",
    "    \"trip_id\",\n",
    "    \"journey_start_date\",\n",
    "    \"journey_start_insee\",\n",
    "    \"journey_start_town\",\n",
    "    \"journey_end_insee\",\n",
    "    \"journey_end_town\",\n",
    "    \"passenger_seats\",\n",
    "    \"journey_distance\",\n",
    "    \"journey_duration\"\n",
    "]\n",
    "df = df[colonne_a_garder]\n",
    "df.sample(5)"
   ]
  },
  {
   "cell_type": "code",
   "execution_count": null,
   "metadata": {},
   "outputs": [],
   "source": [
    "df.describe()"
   ]
  },
  {
   "cell_type": "code",
   "execution_count": null,
   "metadata": {},
   "outputs": [],
   "source": [
    "df.describe(include=\"object\")"
   ]
  },
  {
   "cell_type": "code",
   "execution_count": null,
   "metadata": {},
   "outputs": [],
   "source": [
    "df[\"passenger_seats\"].value_counts()"
   ]
  },
  {
   "cell_type": "markdown",
   "metadata": {},
   "source": [
    "Il y a une très grande majoritée de réservation de covoiturage avec un seul passager."
   ]
  },
  {
   "cell_type": "code",
   "execution_count": null,
   "metadata": {},
   "outputs": [],
   "source": [
    "df[df[\"journey_start_town\"].isna()][\"journey_start_insee\"].value_counts()"
   ]
  },
  {
   "cell_type": "markdown",
   "metadata": {},
   "source": [
    "Les quelques données manquantes en \"journey_start_town\" et \"journey_end_town\" correspondent à trajets avec des villes dans un pays étranger.  \n",
    "Majoritairement Monaco (Code INSEE 99138), la Suisse (Code INSEE 99140) et l\"Italie (Code INSEE 99127) pour juin 2022."
   ]
  },
  {
   "cell_type": "code",
   "execution_count": null,
   "metadata": {},
   "outputs": [],
   "source": [
    "df.groupby([\"journey_start_date\"])[\"passenger_seats\"].sum().reset_index()\n"
   ]
  },
  {
   "cell_type": "code",
   "execution_count": null,
   "metadata": {},
   "outputs": [],
   "source": [
    "import numpy as np\n",
    "df[\"journey_distance_tot_passengers\"] = (df[\"journey_distance\"] * df[\"passenger_seats\"])\n",
    "df.groupby(\"journey_start_date\").agg(\n",
    "    nb_passagers=(\"passenger_seats\", np.sum),\n",
    "    nb_trajets=(\"trip_id\", \"nunique\"),\n",
    "    total_distance=(\"journey_distance_tot_passengers\", np.sum)).reset_index()"
   ]
  },
  {
   "cell_type": "markdown",
   "metadata": {},
   "source": [
    "Logiquement, il y a très peu de différence entre le nombre de trajets et le nombre de passagers. Comme vu précédemment, 98% des réservations concernent un seul passager."
   ]
  },
  {
   "cell_type": "code",
   "execution_count": null,
   "metadata": {},
   "outputs": [],
   "source": []
  }
 ],
 "metadata": {
  "kernelspec": {
   "display_name": "covoit",
   "language": "python",
   "name": "python3"
  },
  "language_info": {
   "codemirror_mode": {
    "name": "ipython",
    "version": 3
   },
   "file_extension": ".py",
   "mimetype": "text/x-python",
   "name": "python",
   "nbconvert_exporter": "python",
   "pygments_lexer": "ipython3",
   "version": "3.10.12"
  }
 },
 "nbformat": 4,
 "nbformat_minor": 2
}
